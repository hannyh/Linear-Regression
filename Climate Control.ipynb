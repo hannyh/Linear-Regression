{
 "cells": [
  {
   "cell_type": "markdown",
   "metadata": {},
   "source": [
    "Climate Control: Linear Regression\n",
    "\n",
    "Much of the following code was provided by the illustrious Dr. Grimshaw. \n",
    "\n",
    "Research Task: Decide if there is a statistically significant greenhouse gas effect, and \n",
    "predict the temperature for the next 12 months, based on our model.\n",
    "\n",
    "Data Features: To do this analysis I wrangled data from a temperature, co2, and methane datasets. I combined them to form a single\n",
    "dataset with one response variable (temp), and several explanatory variables (methane, co2), all of\n",
    "which were quantitative. When I plotted each explanatory variable against the response \n",
    "variable, the data showed a linear trend."
   ]
  },
  {
   "cell_type": "code",
   "execution_count": 32,
   "metadata": {},
   "outputs": [],
   "source": [
    "import pandas as pd\n",
    "import numpy as np\n",
    "import matplotlib.pyplot as plt\n",
    "import statsmodels.api as sm\n",
    "import statsmodels.formula.api as smf"
   ]
  },
  {
   "cell_type": "code",
   "execution_count": 3,
   "metadata": {},
   "outputs": [
    {
     "data": {
      "text/html": [
       "<div>\n",
       "<style scoped>\n",
       "    .dataframe tbody tr th:only-of-type {\n",
       "        vertical-align: middle;\n",
       "    }\n",
       "\n",
       "    .dataframe tbody tr th {\n",
       "        vertical-align: top;\n",
       "    }\n",
       "\n",
       "    .dataframe thead th {\n",
       "        text-align: right;\n",
       "    }\n",
       "</style>\n",
       "<table border=\"1\" class=\"dataframe\">\n",
       "  <thead>\n",
       "    <tr style=\"text-align: right;\">\n",
       "      <th></th>\n",
       "      <th>Jan</th>\n",
       "      <th>Feb</th>\n",
       "      <th>Mar</th>\n",
       "      <th>Apr</th>\n",
       "      <th>May</th>\n",
       "      <th>Jun</th>\n",
       "      <th>Jul</th>\n",
       "      <th>Aug</th>\n",
       "      <th>Sep</th>\n",
       "      <th>Oct</th>\n",
       "      <th>Nov</th>\n",
       "      <th>Dec</th>\n",
       "    </tr>\n",
       "  </thead>\n",
       "  <tbody>\n",
       "    <tr>\n",
       "      <th>0</th>\n",
       "      <td>-10</td>\n",
       "      <td>-14</td>\n",
       "      <td>1</td>\n",
       "      <td>18</td>\n",
       "      <td>19</td>\n",
       "      <td>5</td>\n",
       "      <td>-2</td>\n",
       "      <td>3</td>\n",
       "      <td>9</td>\n",
       "      <td>13</td>\n",
       "      <td>13</td>\n",
       "      <td>28</td>\n",
       "    </tr>\n",
       "    <tr>\n",
       "      <th>1</th>\n",
       "      <td>9</td>\n",
       "      <td>22</td>\n",
       "      <td>8</td>\n",
       "      <td>9</td>\n",
       "      <td>-4</td>\n",
       "      <td>-2</td>\n",
       "      <td>-2</td>\n",
       "      <td>-9</td>\n",
       "      <td>11</td>\n",
       "      <td>6</td>\n",
       "      <td>2</td>\n",
       "      <td>-12</td>\n",
       "    </tr>\n",
       "    <tr>\n",
       "      <th>2</th>\n",
       "      <td>-2</td>\n",
       "      <td>-20</td>\n",
       "      <td>-17</td>\n",
       "      <td>-8</td>\n",
       "      <td>-5</td>\n",
       "      <td>-19</td>\n",
       "      <td>-11</td>\n",
       "      <td>-3</td>\n",
       "      <td>-4</td>\n",
       "      <td>-6</td>\n",
       "      <td>-5</td>\n",
       "      <td>-9</td>\n",
       "    </tr>\n",
       "    <tr>\n",
       "      <th>3</th>\n",
       "      <td>-24</td>\n",
       "      <td>-16</td>\n",
       "      <td>2</td>\n",
       "      <td>0</td>\n",
       "      <td>-4</td>\n",
       "      <td>6</td>\n",
       "      <td>1</td>\n",
       "      <td>17</td>\n",
       "      <td>2</td>\n",
       "      <td>9</td>\n",
       "      <td>4</td>\n",
       "      <td>19</td>\n",
       "    </tr>\n",
       "    <tr>\n",
       "      <th>4</th>\n",
       "      <td>29</td>\n",
       "      <td>31</td>\n",
       "      <td>27</td>\n",
       "      <td>26</td>\n",
       "      <td>25</td>\n",
       "      <td>17</td>\n",
       "      <td>10</td>\n",
       "      <td>3</td>\n",
       "      <td>10</td>\n",
       "      <td>14</td>\n",
       "      <td>6</td>\n",
       "      <td>-6</td>\n",
       "    </tr>\n",
       "  </tbody>\n",
       "</table>\n",
       "</div>"
      ],
      "text/plain": [
       "   Jan  Feb  Mar  Apr  May  Jun  Jul  Aug  Sep  Oct  Nov  Dec\n",
       "0  -10  -14    1   18   19    5   -2    3    9   13   13   28\n",
       "1    9   22    8    9   -4   -2   -2   -9   11    6    2  -12\n",
       "2   -2  -20  -17   -8   -5  -19  -11   -3   -4   -6   -5   -9\n",
       "3  -24  -16    2    0   -4    6    1   17    2    9    4   19\n",
       "4   29   31   27   26   25   17   10    3   10   14    6   -6"
      ]
     },
     "execution_count": 3,
     "metadata": {},
     "output_type": "execute_result"
    }
   ],
   "source": [
    "#Data about temperature\n",
    "temp = pd.read_csv(\"/Users/ward60/Documents/temp.txt\", sep=\"\\s+\")\n",
    "temp = temp.iloc[:,1:13]\n",
    "temp.head()"
   ]
  },
  {
   "cell_type": "code",
   "execution_count": 4,
   "metadata": {},
   "outputs": [],
   "source": [
    "#Reshape Df\n",
    "temp1 = pd.DataFrame(np.matrix(temp).reshape(588,1))\n",
    "#Add months to df\n",
    "months = [1,2,3,4,5,6,7,8,9,10,11,12]\n",
    "temp1[\"month\"] = months*49\n",
    "#Add years to df\n",
    "years = list(range(1969,2018))\n",
    "temp1[\"year\"] = np.repeat(years, 12)\n",
    "#Add col name for temp\n",
    "temp1.columns.values[0]=\"temp\""
   ]
  },
  {
   "cell_type": "code",
   "execution_count": 5,
   "metadata": {},
   "outputs": [],
   "source": [
    "#CO2 Data\n",
    "maunaloa1 = pd.read_csv(\"/Users/ward60/Documents/manaloa1.txt\", sep=\"\\s+\")\n",
    "maunaloa1 = maunaloa1[ [\"year\", \"month\", \"co2\"]]"
   ]
  },
  {
   "cell_type": "code",
   "execution_count": 6,
   "metadata": {},
   "outputs": [],
   "source": [
    "#Methane Data\n",
    "methane = pd.read_csv(\"/Users/ward60/Documents/methane.txt\", sep=\"\\s+\")\n",
    "methane = methane[ [\"year\", \"month\", \"methane\"] ]"
   ]
  },
  {
   "cell_type": "code",
   "execution_count": 7,
   "metadata": {},
   "outputs": [
    {
     "data": {
      "text/html": [
       "<div>\n",
       "<style scoped>\n",
       "    .dataframe tbody tr th:only-of-type {\n",
       "        vertical-align: middle;\n",
       "    }\n",
       "\n",
       "    .dataframe tbody tr th {\n",
       "        vertical-align: top;\n",
       "    }\n",
       "\n",
       "    .dataframe thead th {\n",
       "        text-align: right;\n",
       "    }\n",
       "</style>\n",
       "<table border=\"1\" class=\"dataframe\">\n",
       "  <thead>\n",
       "    <tr style=\"text-align: right;\">\n",
       "      <th></th>\n",
       "      <th>year</th>\n",
       "      <th>month</th>\n",
       "      <th>temp</th>\n",
       "      <th>co2</th>\n",
       "      <th>methane</th>\n",
       "    </tr>\n",
       "  </thead>\n",
       "  <tbody>\n",
       "    <tr>\n",
       "      <th>0</th>\n",
       "      <td>1983</td>\n",
       "      <td>5</td>\n",
       "      <td>36</td>\n",
       "      <td>346.09</td>\n",
       "      <td>1639.23</td>\n",
       "    </tr>\n",
       "    <tr>\n",
       "      <th>1</th>\n",
       "      <td>1983</td>\n",
       "      <td>6</td>\n",
       "      <td>20</td>\n",
       "      <td>345.30</td>\n",
       "      <td>1633.53</td>\n",
       "    </tr>\n",
       "    <tr>\n",
       "      <th>2</th>\n",
       "      <td>1983</td>\n",
       "      <td>7</td>\n",
       "      <td>17</td>\n",
       "      <td>343.53</td>\n",
       "      <td>1633.19</td>\n",
       "    </tr>\n",
       "    <tr>\n",
       "      <th>3</th>\n",
       "      <td>1983</td>\n",
       "      <td>8</td>\n",
       "      <td>33</td>\n",
       "      <td>341.20</td>\n",
       "      <td>1631.38</td>\n",
       "    </tr>\n",
       "    <tr>\n",
       "      <th>4</th>\n",
       "      <td>1983</td>\n",
       "      <td>9</td>\n",
       "      <td>39</td>\n",
       "      <td>339.78</td>\n",
       "      <td>1648.43</td>\n",
       "    </tr>\n",
       "  </tbody>\n",
       "</table>\n",
       "</div>"
      ],
      "text/plain": [
       "   year  month  temp     co2  methane\n",
       "0  1983      5    36  346.09  1639.23\n",
       "1  1983      6    20  345.30  1633.53\n",
       "2  1983      7    17  343.53  1633.19\n",
       "3  1983      8    33  341.20  1631.38\n",
       "4  1983      9    39  339.78  1648.43"
      ]
     },
     "execution_count": 7,
     "metadata": {},
     "output_type": "execute_result"
    }
   ],
   "source": [
    "#Combine to create one dataframe\n",
    "temp_co2 = pd.merge(temp1, maunaloa1, on=['year', 'month'])\n",
    "climate = pd.merge(temp_co2, methane, on=['year', 'month'])\n",
    "climate = climate[['year', 'month', 'temp', 'co2', 'methane']]\n",
    "climate.head()"
   ]
  },
  {
   "cell_type": "markdown",
   "metadata": {},
   "source": [
    "EDA"
   ]
  },
  {
   "cell_type": "code",
   "execution_count": 8,
   "metadata": {},
   "outputs": [
    {
     "data": {
      "text/plain": [
       "0.7590174074397298"
      ]
     },
     "execution_count": 8,
     "metadata": {},
     "output_type": "execute_result"
    }
   ],
   "source": [
    "#Correlation Coefficient Temp~Methane\n",
    "climate[\"temp\"].corr(climate['methane'])"
   ]
  },
  {
   "cell_type": "code",
   "execution_count": 9,
   "metadata": {},
   "outputs": [
    {
     "data": {
      "text/plain": [
       "Text(0.5,1,'Temp~Methane')"
      ]
     },
     "execution_count": 9,
     "metadata": {},
     "output_type": "execute_result"
    },
    {
     "data": {
      "image/png": "[encoded data removed]",
      "text/plain": [
       "<Figure size 432x288 with 1 Axes>"
      ]
     },
     "metadata": {},
     "output_type": "display_data"
    }
   ],
   "source": [
    "plt.plot(climate['temp'], climate['methane'], '.')\n",
    "plt.xlabel(\"Temperature\")\n",
    "plt.ylabel(\"Methane\")\n",
    "plt.title(\"Temp~Methane\")"
   ]
  },
  {
   "cell_type": "code",
   "execution_count": 10,
   "metadata": {},
   "outputs": [
    {
     "data": {
      "text/plain": [
       "0.787587632172703"
      ]
     },
     "execution_count": 10,
     "metadata": {},
     "output_type": "execute_result"
    }
   ],
   "source": [
    "#Correlation Coefficient Temp~Methane\n",
    "climate[\"temp\"].corr(climate['co2'])"
   ]
  },
  {
   "cell_type": "code",
   "execution_count": 11,
   "metadata": {},
   "outputs": [
    {
     "data": {
      "text/plain": [
       "Text(0.5,1,'Temp~CO2')"
      ]
     },
     "execution_count": 11,
     "metadata": {},
     "output_type": "execute_result"
    },
    {
     "data": {
      "image/png": "[encoded data removed]",
      "text/plain": [
       "<Figure size 432x288 with 1 Axes>"
      ]
     },
     "metadata": {},
     "output_type": "display_data"
    }
   ],
   "source": [
    "plt.plot(climate['temp'], climate['co2'], '.')\n",
    "plt.xlabel(\"Temperature\")\n",
    "plt.ylabel(\"CO2\")\n",
    "plt.title(\"Temp~CO2\")"
   ]
  },
  {
   "cell_type": "markdown",
   "metadata": {},
   "source": [
    "Analysis\n",
    "\n",
    "The response variable is Earth Temp (Monthly).  Our explanatory variables are CO2 (ppm) and Methane (ppb).\n",
    "This is a observational study. Because we don't have more than one Earth to test on, it is only an observational study. Therefore, we can only conclude correlation, not causation.\n",
    "\n",
    "Model:\n",
    "Temp = beta0 + beta1*CO2 + beta2*Methane + epsilon, where epsilon ~ N(0, sigma2)\n",
    "\n",
    "Assumptions: That the data has a linear correlation, with constant variance, and that the variables have an independent effect."
   ]
  },
  {
   "cell_type": "code",
   "execution_count": 30,
   "metadata": {},
   "outputs": [
    {
     "data": {
      "text/html": [
       "<table class=\"simpletable\">\n",
       "<caption>OLS Regression Results</caption>\n",
       "<tr>\n",
       "  <th>Dep. Variable:</th>          <td>temp</td>       <th>  R-squared:         </th> <td>   0.628</td>\n",
       "</tr>\n",
       "<tr>\n",
       "  <th>Model:</th>                   <td>OLS</td>       <th>  Adj. R-squared:    </th> <td>   0.626</td>\n",
       "</tr>\n",
       "<tr>\n",
       "  <th>Method:</th>             <td>Least Squares</td>  <th>  F-statistic:       </th> <td>   338.5</td>\n",
       "</tr>\n",
       "<tr>\n",
       "  <th>Date:</th>             <td>Mon, 30 Jul 2018</td> <th>  Prob (F-statistic):</th> <td>7.87e-87</td>\n",
       "</tr>\n",
       "<tr>\n",
       "  <th>Time:</th>                 <td>09:02:21</td>     <th>  Log-Likelihood:    </th> <td> -1636.2</td>\n",
       "</tr>\n",
       "<tr>\n",
       "  <th>No. Observations:</th>      <td>   404</td>      <th>  AIC:               </th> <td>   3278.</td>\n",
       "</tr>\n",
       "<tr>\n",
       "  <th>Df Residuals:</th>          <td>   401</td>      <th>  BIC:               </th> <td>   3290.</td>\n",
       "</tr>\n",
       "<tr>\n",
       "  <th>Df Model:</th>              <td>     2</td>      <th>                     </th>     <td> </td>   \n",
       "</tr>\n",
       "<tr>\n",
       "  <th>Covariance Type:</th>      <td>nonrobust</td>    <th>                     </th>     <td> </td>   \n",
       "</tr>\n",
       "</table>\n",
       "<table class=\"simpletable\">\n",
       "<tr>\n",
       "      <td></td>         <th>coef</th>     <th>std err</th>      <th>t</th>      <th>P>|t|</th>  <th>[0.025</th>    <th>0.975]</th>  \n",
       "</tr>\n",
       "<tr>\n",
       "  <th>Intercept</th> <td> -393.0410</td> <td>   28.152</td> <td>  -13.961</td> <td> 0.000</td> <td> -448.386</td> <td> -337.696</td>\n",
       "</tr>\n",
       "<tr>\n",
       "  <th>co2</th>       <td>    0.7411</td> <td>    0.099</td> <td>    7.478</td> <td> 0.000</td> <td>    0.546</td> <td>    0.936</td>\n",
       "</tr>\n",
       "<tr>\n",
       "  <th>methane</th>   <td>    0.0944</td> <td>    0.033</td> <td>    2.880</td> <td> 0.004</td> <td>    0.030</td> <td>    0.159</td>\n",
       "</tr>\n",
       "</table>\n",
       "<table class=\"simpletable\">\n",
       "<tr>\n",
       "  <th>Omnibus:</th>       <td>10.029</td> <th>  Durbin-Watson:     </th> <td>   0.840</td>\n",
       "</tr>\n",
       "<tr>\n",
       "  <th>Prob(Omnibus):</th> <td> 0.007</td> <th>  Jarque-Bera (JB):  </th> <td>  12.077</td>\n",
       "</tr>\n",
       "<tr>\n",
       "  <th>Skew:</th>          <td> 0.261</td> <th>  Prob(JB):          </th> <td> 0.00239</td>\n",
       "</tr>\n",
       "<tr>\n",
       "  <th>Kurtosis:</th>      <td> 3.667</td> <th>  Cond. No.          </th> <td>7.34e+04</td>\n",
       "</tr>\n",
       "</table><br/><br/>Warnings:<br/>[1] Standard Errors assume that the covariance matrix of the errors is correctly specified.<br/>[2] The condition number is large, 7.34e+04. This might indicate that there are<br/>strong multicollinearity or other numerical problems."
      ],
      "text/plain": [
       "<class 'statsmodels.iolib.summary.Summary'>\n",
       "\"\"\"\n",
       "                            OLS Regression Results                            \n",
       "==============================================================================\n",
       "Dep. Variable:                   temp   R-squared:                       0.628\n",
       "Model:                            OLS   Adj. R-squared:                  0.626\n",
       "Method:                 Least Squares   F-statistic:                     338.5\n",
       "Date:                Mon, 30 Jul 2018   Prob (F-statistic):           7.87e-87\n",
       "Time:                        09:02:21   Log-Likelihood:                -1636.2\n",
       "No. Observations:                 404   AIC:                             3278.\n",
       "Df Residuals:                     401   BIC:                             3290.\n",
       "Df Model:                           2                                         \n",
       "Covariance Type:            nonrobust                                         \n",
       "==============================================================================\n",
       "                 coef    std err          t      P>|t|      [0.025      0.975]\n",
       "------------------------------------------------------------------------------\n",
       "Intercept   -393.0410     28.152    -13.961      0.000    -448.386    -337.696\n",
       "co2            0.7411      0.099      7.478      0.000       0.546       0.936\n",
       "methane        0.0944      0.033      2.880      0.004       0.030       0.159\n",
       "==============================================================================\n",
       "Omnibus:                       10.029   Durbin-Watson:                   0.840\n",
       "Prob(Omnibus):                  0.007   Jarque-Bera (JB):               12.077\n",
       "Skew:                           0.261   Prob(JB):                      0.00239\n",
       "Kurtosis:                       3.667   Cond. No.                     7.34e+04\n",
       "==============================================================================\n",
       "\n",
       "Warnings:\n",
       "[1] Standard Errors assume that the covariance matrix of the errors is correctly specified.\n",
       "[2] The condition number is large, 7.34e+04. This might indicate that there are\n",
       "strong multicollinearity or other numerical problems.\n",
       "\"\"\""
      ]
     },
     "execution_count": 30,
     "metadata": {},
     "output_type": "execute_result"
    }
   ],
   "source": [
    "#fit the model\n",
    "fitted = smf.ols('temp ~ co2 + methane', data=climate)\n",
    "results = fitted.fit()\n",
    "results.summary()"
   ]
  },
  {
   "cell_type": "markdown",
   "metadata": {},
   "source": [
    "Beta1.hat is the estimated partial slope of co2 (The slope of co2 if we hold methane constant). For a one unit change in CO2 (ppm), there is an estimated expected increase of 0.741 (.01 ºC) in monthly earth temperature, given that methane concentration is constant. \n",
    "\n",
    "Beta2.hat is the estimated partial slope of methane ( The slope of methane if we hold co2 constant). For a one unit change in Methane (ppb), there is an estimated expected increase of 0.09444 (.01 ºC) in the earth's month earth temperature, given that co2 concentration is constant. \n"
   ]
  },
  {
   "cell_type": "code",
   "execution_count": 42,
   "metadata": {},
   "outputs": [
    {
     "data": {
      "image/png": "[encoded data removed]",
      "text/plain": [
       "<Figure size 864x1008 with 4 Axes>"
      ]
     },
     "metadata": {},
     "output_type": "display_data"
    }
   ],
   "source": [
    "#Create partial regression plots, or added variable plots\n",
    "fix, ax = plt.subplots(figsize=(12,14))\n",
    "fig = sm.graphics.plot_partregress_grid(results, fig=fix)"
   ]
  },
  {
   "cell_type": "markdown",
   "metadata": {},
   "source": [
    "Inference:\n",
    "Is there a statistically significant greenhouse gas effect?\n"
   ]
  },
  {
   "cell_type": "markdown",
   "metadata": {},
   "source": [
    "Test H0: neither greenhouse gas has an effect\n",
    "     HA: at least one greenhouse gas has an effect\n",
    "ANOVA compares the two models 1. Assuming H0 is true and 2. Assume Ha is true. \n",
    "If there is a difference between the two models, we'll reject H0. "
   ]
  },
  {
   "cell_type": "code",
   "execution_count": 47,
   "metadata": {},
   "outputs": [
    {
     "name": "stdout",
     "output_type": "stream",
     "text": [
      "   df_resid            ssr  df_diff        ss_diff           F        Pr(>F)\n",
      "0     403.0  209525.888614      0.0            NaN         NaN           NaN\n",
      "1     401.0   77945.522648      2.0  131580.365966  338.465411  7.869972e-87\n"
     ]
    },
    {
     "name": "stderr",
     "output_type": "stream",
     "text": [
      "/usr/local/lib/python3.6/site-packages/scipy/stats/_distn_infrastructure.py:879: RuntimeWarning: invalid value encountered in greater\n",
      "  return (self.a < x) & (x < self.b)\n",
      "/usr/local/lib/python3.6/site-packages/scipy/stats/_distn_infrastructure.py:879: RuntimeWarning: invalid value encountered in less\n",
      "  return (self.a < x) & (x < self.b)\n",
      "/usr/local/lib/python3.6/site-packages/scipy/stats/_distn_infrastructure.py:1821: RuntimeWarning: invalid value encountered in less_equal\n",
      "  cond2 = cond0 & (x <= self.a)\n"
     ]
    }
   ],
   "source": [
    "noeffect = smf.ols('temp ~ +1', data=climate).fit()\n",
    "table = sm.stats.anova_lm(noeffect, results, typ=1) # Type 1 bc we are comparing multiple models\n",
    "print(table)"
   ]
  },
  {
   "cell_type": "markdown",
   "metadata": {},
   "source": [
    "There is a statistically significant greenhouse gas effect (p is < 7.87e-87)"
   ]
  },
  {
   "cell_type": "markdown",
   "metadata": {},
   "source": [
    "Follow up Analysis: Which gases have an effect?\n",
    "\n",
    "T Test\n",
    "\n",
    "H0: Beta1 = Beta2 = 0 \n",
    "\n",
    "p-values (from the summary table):   \n",
    "            co2     => 0.000   \n",
    "            methane => 0.004"
   ]
  },
  {
   "cell_type": "markdown",
   "metadata": {},
   "source": [
    "95% confidence interval for p-values (from summary table):\n",
    "\n",
    "   co2: (0.546,  0.936)\n",
    "    \n",
    "methane: (0.030,  0.159)\n",
    "\n",
    "When we compared the two models with the ANOVA test, the pvalue was less than .0001, and so we reject the null that methane and co2 do not have a greenhouse gas effect. In our further analysis, we tested co2 and methane individually to see if each gas individually had a greenhouse gas effect. In our ttest Beta1 had a t statistic of 7.478, with a pvalue 4.79e-13, and therefore CO2 has a significant effect. Beta2 had a statistic of 2.880, with a pvalue of 0.00419, and so methane also has a statistically signficant #greenhouse gas effect. Methane's \n",
    "effect was not as significant as the effect of CO2, because Methane's statistic was smaller. These findings were reinforced by the confidence interval that we calculated. Neither co2 or\n",
    "methane contained 0 in their respective 95% confidence intervals, and therefore both are statistically significant in that regard. Methane had a much smaller confidence interval than co2, which shows again that it is less significant than co2.\n"
   ]
  },
  {
   "cell_type": "markdown",
   "metadata": {},
   "source": [
    "Task: Evaluate prediction performance one year into the future"
   ]
  },
  {
   "cell_type": "code",
   "execution_count": 51,
   "metadata": {},
   "outputs": [
    {
     "data": {
      "text/html": [
       "<div>\n",
       "<style scoped>\n",
       "    .dataframe tbody tr th:only-of-type {\n",
       "        vertical-align: middle;\n",
       "    }\n",
       "\n",
       "    .dataframe tbody tr th {\n",
       "        vertical-align: top;\n",
       "    }\n",
       "\n",
       "    .dataframe thead th {\n",
       "        text-align: right;\n",
       "    }\n",
       "</style>\n",
       "<table border=\"1\" class=\"dataframe\">\n",
       "  <thead>\n",
       "    <tr style=\"text-align: right;\">\n",
       "      <th></th>\n",
       "      <th>year</th>\n",
       "      <th>month</th>\n",
       "      <th>temp</th>\n",
       "      <th>co2</th>\n",
       "      <th>methane</th>\n",
       "    </tr>\n",
       "  </thead>\n",
       "  <tbody>\n",
       "    <tr>\n",
       "      <th>392</th>\n",
       "      <td>2016</td>\n",
       "      <td>1</td>\n",
       "      <td>115</td>\n",
       "      <td>402.72</td>\n",
       "      <td>1858.25</td>\n",
       "    </tr>\n",
       "    <tr>\n",
       "      <th>393</th>\n",
       "      <td>2016</td>\n",
       "      <td>2</td>\n",
       "      <td>134</td>\n",
       "      <td>403.62</td>\n",
       "      <td>1858.33</td>\n",
       "    </tr>\n",
       "    <tr>\n",
       "      <th>394</th>\n",
       "      <td>2016</td>\n",
       "      <td>3</td>\n",
       "      <td>130</td>\n",
       "      <td>405.23</td>\n",
       "      <td>1864.58</td>\n",
       "    </tr>\n",
       "    <tr>\n",
       "      <th>395</th>\n",
       "      <td>2016</td>\n",
       "      <td>4</td>\n",
       "      <td>107</td>\n",
       "      <td>407.35</td>\n",
       "      <td>1873.36</td>\n",
       "    </tr>\n",
       "    <tr>\n",
       "      <th>396</th>\n",
       "      <td>2016</td>\n",
       "      <td>5</td>\n",
       "      <td>90</td>\n",
       "      <td>407.87</td>\n",
       "      <td>1870.71</td>\n",
       "    </tr>\n",
       "    <tr>\n",
       "      <th>397</th>\n",
       "      <td>2016</td>\n",
       "      <td>6</td>\n",
       "      <td>78</td>\n",
       "      <td>406.57</td>\n",
       "      <td>1855.71</td>\n",
       "    </tr>\n",
       "    <tr>\n",
       "      <th>398</th>\n",
       "      <td>2016</td>\n",
       "      <td>7</td>\n",
       "      <td>82</td>\n",
       "      <td>404.37</td>\n",
       "      <td>1835.76</td>\n",
       "    </tr>\n",
       "    <tr>\n",
       "      <th>399</th>\n",
       "      <td>2016</td>\n",
       "      <td>8</td>\n",
       "      <td>99</td>\n",
       "      <td>401.69</td>\n",
       "      <td>1840.68</td>\n",
       "    </tr>\n",
       "    <tr>\n",
       "      <th>400</th>\n",
       "      <td>2016</td>\n",
       "      <td>9</td>\n",
       "      <td>87</td>\n",
       "      <td>400.23</td>\n",
       "      <td>1863.21</td>\n",
       "    </tr>\n",
       "    <tr>\n",
       "      <th>401</th>\n",
       "      <td>2016</td>\n",
       "      <td>10</td>\n",
       "      <td>89</td>\n",
       "      <td>401.47</td>\n",
       "      <td>1876.06</td>\n",
       "    </tr>\n",
       "    <tr>\n",
       "      <th>402</th>\n",
       "      <td>2016</td>\n",
       "      <td>11</td>\n",
       "      <td>90</td>\n",
       "      <td>403.53</td>\n",
       "      <td>1874.51</td>\n",
       "    </tr>\n",
       "    <tr>\n",
       "      <th>403</th>\n",
       "      <td>2016</td>\n",
       "      <td>12</td>\n",
       "      <td>82</td>\n",
       "      <td>404.66</td>\n",
       "      <td>1864.68</td>\n",
       "    </tr>\n",
       "  </tbody>\n",
       "</table>\n",
       "</div>"
      ],
      "text/plain": [
       "     year  month  temp     co2  methane\n",
       "392  2016      1   115  402.72  1858.25\n",
       "393  2016      2   134  403.62  1858.33\n",
       "394  2016      3   130  405.23  1864.58\n",
       "395  2016      4   107  407.35  1873.36\n",
       "396  2016      5    90  407.87  1870.71\n",
       "397  2016      6    78  406.57  1855.71\n",
       "398  2016      7    82  404.37  1835.76\n",
       "399  2016      8    99  401.69  1840.68\n",
       "400  2016      9    87  400.23  1863.21\n",
       "401  2016     10    89  401.47  1876.06\n",
       "402  2016     11    90  403.53  1874.51\n",
       "403  2016     12    82  404.66  1864.68"
      ]
     },
     "execution_count": 51,
     "metadata": {},
     "output_type": "execute_result"
    }
   ],
   "source": [
    "#Separate data into test and train\n",
    "#train: before last year\n",
    "climate_train = climate.loc[climate[\"year\"] <= 2015]\n",
    "climate_train\n",
    "#test: last year (2016)\n",
    "climate_test = climate.loc[climate[\"year\"] == 2016]\n",
    "climate_test"
   ]
  },
  {
   "cell_type": "code",
   "execution_count": 63,
   "metadata": {},
   "outputs": [
    {
     "data": {
      "text/plain": [
       "392    78.488079\n",
       "393    79.111617\n",
       "394    80.800813\n",
       "395    83.076786\n",
       "396    83.183737\n",
       "397    80.884648\n",
       "398    77.504474\n",
       "399    76.132340\n",
       "400    77.249751\n",
       "401    79.305776\n",
       "402    80.570157\n",
       "403    80.420060\n",
       "dtype: float64"
      ]
     },
     "execution_count": 63,
     "metadata": {},
     "output_type": "execute_result"
    }
   ],
   "source": [
    "#Fit a model on the training data\n",
    "out_train_climate = smf.ols('temp~co2+methane', data=climate_train).fit()\n",
    "#Make predictions with the test data\n",
    "y2016 = out_train_climate.predict(climate_test)\n",
    "y2016"
   ]
  },
  {
   "cell_type": "code",
   "execution_count": 64,
   "metadata": {},
   "outputs": [
    {
     "data": {
      "text/plain": [
       "Text(0.5,1,'Prediction Performance')"
      ]
     },
     "execution_count": 64,
     "metadata": {},
     "output_type": "execute_result"
    },
    {
     "data": {
      "image/png": "[encoded data removed]",
      "text/plain": [
       "<Figure size 432x288 with 1 Axes>"
      ]
     },
     "metadata": {},
     "output_type": "display_data"
    }
   ],
   "source": [
    "#Evaluate Prediction Performance\n",
    "plt.plot(y2016, climate_test[\"temp\"], \".\")\n",
    "plt.xlabel(\"Predicted Earth Temp\")\n",
    "plt.ylabel(\"Actual Earth Temp\")\n",
    "plt.title(\"Prediction Performance\")"
   ]
  },
  {
   "cell_type": "code",
   "execution_count": null,
   "metadata": {},
   "outputs": [],
   "source": []
  }
 ],
 "metadata": {
  "kernelspec": {
   "display_name": "Python 3",
   "language": "python",
   "name": "python3"
  },
  "language_info": {
   "codemirror_mode": {
    "name": "ipython",
    "version": 3
   },
   "file_extension": ".py",
   "mimetype": "text/x-python",
   "name": "python",
   "nbconvert_exporter": "python",
   "pygments_lexer": "ipython3",
   "version": "3.6.5"
  }
 },
 "nbformat": 4,
 "nbformat_minor": 2
}

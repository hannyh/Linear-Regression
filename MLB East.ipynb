{
 "cells": [
  {
   "cell_type": "markdown",
   "metadata": {},
   "source": [
    "Major League Baseball: Path to the Playoffs\n",
    "\n",
    "Fans of the small budget East Division MLB teams, like the Baltimore Orioles, claim that their team has an unfair disadvantage in making it to the playoffs. They say that they have a harder time beating the highly budgeted, highly popular New York Yankees and Boston Red Sox, and that small budget teams in other leagues don't face that difficulty.  \n",
    "\n",
    "Research Question: Determine if there is a statistically significant difference between MLB divisions in the difficulty to make it to the playoffs."
   ]
  },
  {
   "cell_type": "code",
   "execution_count": 78,
   "metadata": {},
   "outputs": [],
   "source": [
    "import pandas as pd\n",
    "import numpy as np\n",
    "import statsmodels.formula.api as smf\n",
    "import statsmodels.api as sm\n",
    "import matplotlib.pyplot as plt\n",
    "from patsy.contrasts import Treatment"
   ]
  },
  {
   "cell_type": "code",
   "execution_count": 31,
   "metadata": {},
   "outputs": [
    {
     "data": {
      "text/html": [
       "<div>\n",
       "<style scoped>\n",
       "    .dataframe tbody tr th:only-of-type {\n",
       "        vertical-align: middle;\n",
       "    }\n",
       "\n",
       "    .dataframe tbody tr th {\n",
       "        vertical-align: top;\n",
       "    }\n",
       "\n",
       "    .dataframe thead th {\n",
       "        text-align: right;\n",
       "    }\n",
       "</style>\n",
       "<table border=\"1\" class=\"dataframe\">\n",
       "  <thead>\n",
       "    <tr style=\"text-align: right;\">\n",
       "      <th></th>\n",
       "      <th>W</th>\n",
       "      <th>DIFF</th>\n",
       "      <th>DIV</th>\n",
       "    </tr>\n",
       "  </thead>\n",
       "  <tbody>\n",
       "    <tr>\n",
       "      <th>0</th>\n",
       "      <td>93</td>\n",
       "      <td>117</td>\n",
       "      <td>East</td>\n",
       "    </tr>\n",
       "    <tr>\n",
       "      <th>1</th>\n",
       "      <td>91</td>\n",
       "      <td>198</td>\n",
       "      <td>East</td>\n",
       "    </tr>\n",
       "    <tr>\n",
       "      <th>2</th>\n",
       "      <td>80</td>\n",
       "      <td>-10</td>\n",
       "      <td>East</td>\n",
       "    </tr>\n",
       "    <tr>\n",
       "      <th>3</th>\n",
       "      <td>76</td>\n",
       "      <td>-91</td>\n",
       "      <td>East</td>\n",
       "    </tr>\n",
       "    <tr>\n",
       "      <th>4</th>\n",
       "      <td>75</td>\n",
       "      <td>-98</td>\n",
       "      <td>East</td>\n",
       "    </tr>\n",
       "    <tr>\n",
       "      <th>5</th>\n",
       "      <td>102</td>\n",
       "      <td>254</td>\n",
       "      <td>Central</td>\n",
       "    </tr>\n",
       "    <tr>\n",
       "      <th>6</th>\n",
       "      <td>85</td>\n",
       "      <td>27</td>\n",
       "      <td>Central</td>\n",
       "    </tr>\n",
       "    <tr>\n",
       "      <th>7</th>\n",
       "      <td>80</td>\n",
       "      <td>-89</td>\n",
       "      <td>Central</td>\n",
       "    </tr>\n",
       "    <tr>\n",
       "      <th>8</th>\n",
       "      <td>67</td>\n",
       "      <td>-114</td>\n",
       "      <td>Central</td>\n",
       "    </tr>\n",
       "    <tr>\n",
       "      <th>9</th>\n",
       "      <td>64</td>\n",
       "      <td>-159</td>\n",
       "      <td>Central</td>\n",
       "    </tr>\n",
       "    <tr>\n",
       "      <th>10</th>\n",
       "      <td>101</td>\n",
       "      <td>196</td>\n",
       "      <td>West</td>\n",
       "    </tr>\n",
       "    <tr>\n",
       "      <th>11</th>\n",
       "      <td>80</td>\n",
       "      <td>1</td>\n",
       "      <td>West</td>\n",
       "    </tr>\n",
       "    <tr>\n",
       "      <th>12</th>\n",
       "      <td>78</td>\n",
       "      <td>-22</td>\n",
       "      <td>West</td>\n",
       "    </tr>\n",
       "    <tr>\n",
       "      <th>13</th>\n",
       "      <td>78</td>\n",
       "      <td>-17</td>\n",
       "      <td>West</td>\n",
       "    </tr>\n",
       "    <tr>\n",
       "      <th>14</th>\n",
       "      <td>75</td>\n",
       "      <td>-87</td>\n",
       "      <td>West</td>\n",
       "    </tr>\n",
       "  </tbody>\n",
       "</table>\n",
       "</div>"
      ],
      "text/plain": [
       "      W  DIFF      DIV\n",
       "0    93   117     East\n",
       "1    91   198     East\n",
       "2    80   -10     East\n",
       "3    76   -91     East\n",
       "4    75   -98     East\n",
       "5   102   254  Central\n",
       "6    85    27  Central\n",
       "7    80   -89  Central\n",
       "8    67  -114  Central\n",
       "9    64  -159  Central\n",
       "10  101   196     West\n",
       "11   80     1     West\n",
       "12   78   -22     West\n",
       "13   78   -17     West\n",
       "14   75   -87     West"
      ]
     },
     "execution_count": 31,
     "metadata": {},
     "output_type": "execute_result"
    }
   ],
   "source": [
    "#Data: \n",
    "#Accessed at http://www.espn.com/mlb/standings/_/ on March 2, 2018\n",
    "\n",
    "mlb = pd.read_csv('/Users/ward60/Documents/mlb.txt', sep=\"\\s+\")\n",
    "mlb = mlb[[\"W\", \"DIFF\", \"DIV\"]]\n",
    "mlb"
   ]
  },
  {
   "cell_type": "code",
   "execution_count": 35,
   "metadata": {},
   "outputs": [
    {
     "name": "stdout",
     "output_type": "stream",
     "text": [
      "            W  DIFF\n",
      "DIV                \n",
      "Central  79.6 -16.2\n",
      "East     83.0  23.2\n",
      "West     82.4  14.2\n",
      "                 W        DIFF\n",
      "DIV                           \n",
      "Central  15.274161  165.929804\n",
      "East      8.455767  130.563012\n",
      "West     10.549882  106.947183\n"
     ]
    }
   ],
   "source": [
    "#EDA\n",
    "#Summary Statistics for Wins and Run Differential\n",
    "grouped = mlb.groupby('DIV')\n",
    "print(grouped.mean())\n",
    "print(grouped.std())\n"
   ]
  },
  {
   "cell_type": "code",
   "execution_count": 45,
   "metadata": {},
   "outputs": [
    {
     "data": {
      "text/plain": [
       "<matplotlib.legend.Legend at 0x11927fc88>"
      ]
     },
     "execution_count": 45,
     "metadata": {},
     "output_type": "execute_result"
    },
    {
     "data": {
      "image/png": "[encoded data removed]",
      "text/plain": [
       "<Figure size 432x288 with 1 Axes>"
      ]
     },
     "metadata": {},
     "output_type": "display_data"
    }
   ],
   "source": [
    "#Scatterplot of RunDiff~Wins with each division in it's own color\n",
    "east = mlb[mlb[\"DIV\"]==\"East\"]\n",
    "west = mlb[mlb[\"DIV\"]==\"West\"]\n",
    "central = mlb[mlb[\"DIV\"]==\"Central\"]\n",
    "\n",
    "plt.plot(east[\"W\"], east['DIFF'], \".\", color='r', label=\"East\")\n",
    "plt.plot(west[\"W\"], west['DIFF'], \".\", color='g', label=\"West\")\n",
    "plt.plot(central[\"W\"], central['DIFF'], \".\", color='b', label=\"Central\")\n",
    "plt.xlabel(\"# Wins\")\n",
    "plt.ylabel(\"Run Differential\")\n",
    "plt.title(\"RunDiff~Wins\")\n",
    "plt.legend(loc='best')"
   ]
  },
  {
   "cell_type": "code",
   "execution_count": 79,
   "metadata": {},
   "outputs": [
    {
     "name": "stderr",
     "output_type": "stream",
     "text": [
      "/usr/local/lib/python3.6/site-packages/scipy/stats/stats.py:1394: UserWarning: kurtosistest only valid for n>=20 ... continuing anyway, n=15\n",
      "  \"anyway, n=%i\" % int(n))\n"
     ]
    },
    {
     "data": {
      "text/html": [
       "<table class=\"simpletable\">\n",
       "<caption>OLS Regression Results</caption>\n",
       "<tr>\n",
       "  <th>Dep. Variable:</th>            <td>W</td>        <th>  R-squared:         </th> <td>   0.908</td>\n",
       "</tr>\n",
       "<tr>\n",
       "  <th>Model:</th>                   <td>OLS</td>       <th>  Adj. R-squared:    </th> <td>   0.883</td>\n",
       "</tr>\n",
       "<tr>\n",
       "  <th>Method:</th>             <td>Least Squares</td>  <th>  F-statistic:       </th> <td>   36.05</td>\n",
       "</tr>\n",
       "<tr>\n",
       "  <th>Date:</th>             <td>Wed, 01 Aug 2018</td> <th>  Prob (F-statistic):</th> <td>5.52e-06</td>\n",
       "</tr>\n",
       "<tr>\n",
       "  <th>Time:</th>                 <td>17:17:22</td>     <th>  Log-Likelihood:    </th> <td> -38.880</td>\n",
       "</tr>\n",
       "<tr>\n",
       "  <th>No. Observations:</th>      <td>    15</td>      <th>  AIC:               </th> <td>   85.76</td>\n",
       "</tr>\n",
       "<tr>\n",
       "  <th>Df Residuals:</th>          <td>    11</td>      <th>  BIC:               </th> <td>   88.59</td>\n",
       "</tr>\n",
       "<tr>\n",
       "  <th>Df Model:</th>              <td>     3</td>      <th>                     </th>     <td> </td>   \n",
       "</tr>\n",
       "<tr>\n",
       "  <th>Covariance Type:</th>      <td>nonrobust</td>    <th>                     </th>     <td> </td>   \n",
       "</tr>\n",
       "</table>\n",
       "<table class=\"simpletable\">\n",
       "<tr>\n",
       "              <td></td>                 <th>coef</th>     <th>std err</th>      <th>t</th>      <th>P>|t|</th>  <th>[0.025</th>    <th>0.975]</th>  \n",
       "</tr>\n",
       "<tr>\n",
       "  <th>Intercept</th>                 <td>   80.9289</td> <td>    1.693</td> <td>   47.809</td> <td> 0.000</td> <td>   77.203</td> <td>   84.655</td>\n",
       "</tr>\n",
       "<tr>\n",
       "  <th>C(DIV, Treatment)[T.East]</th> <td>    0.1680</td> <td>    2.408</td> <td>    0.070</td> <td> 0.946</td> <td>   -5.131</td> <td>    5.467</td>\n",
       "</tr>\n",
       "<tr>\n",
       "  <th>C(DIV, Treatment)[T.West]</th> <td>    0.3063</td> <td>    2.399</td> <td>    0.128</td> <td> 0.901</td> <td>   -4.974</td> <td>    5.587</td>\n",
       "</tr>\n",
       "<tr>\n",
       "  <th>DIFF</th>                      <td>    0.0820</td> <td>    0.008</td> <td>   10.288</td> <td> 0.000</td> <td>    0.064</td> <td>    0.100</td>\n",
       "</tr>\n",
       "</table>\n",
       "<table class=\"simpletable\">\n",
       "<tr>\n",
       "  <th>Omnibus:</th>       <td> 0.109</td> <th>  Durbin-Watson:     </th> <td>   2.266</td>\n",
       "</tr>\n",
       "<tr>\n",
       "  <th>Prob(Omnibus):</th> <td> 0.947</td> <th>  Jarque-Bera (JB):  </th> <td>   0.162</td>\n",
       "</tr>\n",
       "<tr>\n",
       "  <th>Skew:</th>          <td>-0.142</td> <th>  Prob(JB):          </th> <td>   0.922</td>\n",
       "</tr>\n",
       "<tr>\n",
       "  <th>Kurtosis:</th>      <td> 2.578</td> <th>  Cond. No.          </th> <td>    417.</td>\n",
       "</tr>\n",
       "</table><br/><br/>Warnings:<br/>[1] Standard Errors assume that the covariance matrix of the errors is correctly specified."
      ],
      "text/plain": [
       "<class 'statsmodels.iolib.summary.Summary'>\n",
       "\"\"\"\n",
       "                            OLS Regression Results                            \n",
       "==============================================================================\n",
       "Dep. Variable:                      W   R-squared:                       0.908\n",
       "Model:                            OLS   Adj. R-squared:                  0.883\n",
       "Method:                 Least Squares   F-statistic:                     36.05\n",
       "Date:                Wed, 01 Aug 2018   Prob (F-statistic):           5.52e-06\n",
       "Time:                        17:17:22   Log-Likelihood:                -38.880\n",
       "No. Observations:                  15   AIC:                             85.76\n",
       "Df Residuals:                      11   BIC:                             88.59\n",
       "Df Model:                           3                                         \n",
       "Covariance Type:            nonrobust                                         \n",
       "=============================================================================================\n",
       "                                coef    std err          t      P>|t|      [0.025      0.975]\n",
       "---------------------------------------------------------------------------------------------\n",
       "Intercept                    80.9289      1.693     47.809      0.000      77.203      84.655\n",
       "C(DIV, Treatment)[T.East]     0.1680      2.408      0.070      0.946      -5.131       5.467\n",
       "C(DIV, Treatment)[T.West]     0.3063      2.399      0.128      0.901      -4.974       5.587\n",
       "DIFF                          0.0820      0.008     10.288      0.000       0.064       0.100\n",
       "==============================================================================\n",
       "Omnibus:                        0.109   Durbin-Watson:                   2.266\n",
       "Prob(Omnibus):                  0.947   Jarque-Bera (JB):                0.162\n",
       "Skew:                          -0.142   Prob(JB):                        0.922\n",
       "Kurtosis:                       2.578   Cond. No.                         417.\n",
       "==============================================================================\n",
       "\n",
       "Warnings:\n",
       "[1] Standard Errors assume that the covariance matrix of the errors is correctly specified.\n",
       "\"\"\""
      ]
     },
     "execution_count": 79,
     "metadata": {},
     "output_type": "execute_result"
    }
   ],
   "source": [
    "#Fit the Model\n",
    "\n",
    "fitted = smf.ols('W ~ C(DIV, Treatment) + DIFF', data=mlb).fit()\n",
    "fitted.summary()"
   ]
  },
  {
   "cell_type": "markdown",
   "metadata": {},
   "source": [
    "The estimated regression coefficient for this model means that if you hold the division constant, for every\n",
    "run a team earns or every run a team prevents their opponent from getting, the team will win an average of 0.082\n",
    "more games. "
   ]
  },
  {
   "cell_type": "markdown",
   "metadata": {},
   "source": [
    "Really there are 3 levels of divison, and therefore, 3 models based on which division we're considering.  \n",
    "\n",
    "If DIV is East: Wins = Beta0 + beta1*0 + beta2*0 + beta3* RunDiff \n",
    "\n",
    "Simplifies =>  Wins = (Beta0) + beta3 *RunDiff\n",
    "\n",
    "If DIV is Central: Wins = Beta0 + Beta1 * 1 + Beta2*0 + Beta3*RunDiff\n",
    "\n",
    "Simplifies    =>  Wins = (Beta0 + Beta1) + Beta3*RunDiff\n",
    "\n",
    "If DIV is West: Wins = Beta0 + Beta1*0 + Beta2*1 + Beta3*RunDiff\n",
    "\n",
    "Simplifies =>  Wins =(Beta0 + Beta2) + Beta3 * RunDiff"
   ]
  },
  {
   "cell_type": "markdown",
   "metadata": {},
   "source": [
    "Model for wins.hat:\n",
    "\n",
    " If East,           Wins = 81.1 + 0.08*Run.Diff\n",
    " \n",
    " If Central,       Wins = (81.1 + (-0.16)) + 0.08*Run.Diff\n",
    " \n",
    " If West,        Wins = (81.1 + 0.13) + 0.08*Run.Diff"
   ]
  },
  {
   "cell_type": "code",
   "execution_count": 66,
   "metadata": {},
   "outputs": [],
   "source": [
    "#Simple definition that allow us to plot line based on slope and intercept in the specified color\n",
    "def abline(slope, intercept, col=\"black\"):\n",
    "    \"\"\"Plot a line from slope and intercept\"\"\"\n",
    "    axes = plt.gca()\n",
    "    x_vals = np.array(axes.get_xlim())\n",
    "    y_vals = intercept + slope * x_vals\n",
    "    plt.plot(x_vals, y_vals, '--', color=col)"
   ]
  },
  {
   "cell_type": "code",
   "execution_count": 74,
   "metadata": {},
   "outputs": [
    {
     "data": {
      "image/png": "[encoded data removed]",
      "text/plain": [
       "<Figure size 432x288 with 1 Axes>"
      ]
     },
     "metadata": {},
     "output_type": "display_data"
    }
   ],
   "source": [
    "#plot showing the three predicted models\n",
    "plt.plot(east['DIFF'], east[\"W\"],  \".\", color='r', label=\"East\")\n",
    "plt.plot(west['DIFF'], west[\"W\"],  \".\", color='g', label=\"West\")\n",
    "plt.plot(central['DIFF'], central[\"W\"],  \".\", color='b', label=\"Central\")\n",
    "abline(0.082029, 81.096918, 'blue')\n",
    "abline(0.082029, 81.096918-0.168041, 'red')\n",
    "abline(0.082029, 81.096918+0.306306, \"lightgreen\")\n",
    "plt.xlabel(\"Run Differential\")\n",
    "plt.ylabel('Wins')\n",
    "plt.legend(loc=\"best\")\n",
    "plt.show()"
   ]
  },
  {
   "cell_type": "markdown",
   "metadata": {},
   "source": [
    "Test the hypothesis\n",
    "\n",
    "H0: no difference between divisions after adjusting for run.diff"
   ]
  },
  {
   "cell_type": "code",
   "execution_count": 80,
   "metadata": {},
   "outputs": [
    {
     "name": "stdout",
     "output_type": "stream",
     "text": [
      "   df_resid         ssr  df_diff   ss_diff         F    Pr(>F)\n",
      "0      13.0  156.915600      0.0       NaN       NaN       NaN\n",
      "1      11.0  156.682928      2.0  0.232672  0.008167  0.991872\n"
     ]
    },
    {
     "name": "stderr",
     "output_type": "stream",
     "text": [
      "/usr/local/lib/python3.6/site-packages/scipy/stats/_distn_infrastructure.py:879: RuntimeWarning: invalid value encountered in greater\n",
      "  return (self.a < x) & (x < self.b)\n",
      "/usr/local/lib/python3.6/site-packages/scipy/stats/_distn_infrastructure.py:879: RuntimeWarning: invalid value encountered in less\n",
      "  return (self.a < x) & (x < self.b)\n",
      "/usr/local/lib/python3.6/site-packages/scipy/stats/_distn_infrastructure.py:1821: RuntimeWarning: invalid value encountered in less_equal\n",
      "  cond2 = cond0 & (x <= self.a)\n"
     ]
    }
   ],
   "source": [
    "noeffect = smf.ols('W ~ DIFF', data=mlb).fit()\n",
    "table = sm.stats.anova_lm(noeffect, fitted, typ=1) # Type 1 bc we are comparing multiple models\n",
    "print(table)"
   ]
  },
  {
   "cell_type": "markdown",
   "metadata": {},
   "source": [
    "The test statistic from the anova test is 0.9919. We can therefore conclude that there is no statistically significant difference between the divisions in paths to the playoffs"
   ]
  },
  {
   "cell_type": "code",
   "execution_count": null,
   "metadata": {},
   "outputs": [],
   "source": []
  }
 ],
 "metadata": {
  "kernelspec": {
   "display_name": "Python 3",
   "language": "python",
   "name": "python3"
  },
  "language_info": {
   "codemirror_mode": {
    "name": "ipython",
    "version": 3
   },
   "file_extension": ".py",
   "mimetype": "text/x-python",
   "name": "python",
   "nbconvert_exporter": "python",
   "pygments_lexer": "ipython3",
   "version": "3.6.5"
  }
 },
 "nbformat": 4,
 "nbformat_minor": 2
}
